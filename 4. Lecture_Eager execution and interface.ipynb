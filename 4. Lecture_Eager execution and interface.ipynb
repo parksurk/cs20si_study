{
 "cells": [
  {
   "cell_type": "markdown",
   "metadata": {},
   "source": [
    "## TensorFlow Today: Declarative (Graphs)"
   ]
  },
  {
   "cell_type": "code",
   "execution_count": null,
   "metadata": {},
   "outputs": [],
   "source": []
  },
  {
   "cell_type": "markdown",
   "metadata": {},
   "source": [
    "## Graphs are ..\n",
    "\n",
    "### Optimizable\n",
    "- automatic buffer reuse\n",
    "- constant folding\n",
    "- inter-op parallelism\n",
    "- automatic trade-off between compute and memory\n",
    "\n",
    "### Deployable\n",
    "- the Graph is an intermediate representation for models\n",
    "\n",
    "### Rewritable\n",
    "- experiment with automatic device placement or quantization\n"
   ]
  },
  {
   "cell_type": "code",
   "execution_count": null,
   "metadata": {},
   "outputs": [],
   "source": []
  },
  {
   "cell_type": "markdown",
   "metadata": {},
   "source": [
    "## But graphs are also ...\n",
    "\n",
    "### Difficult to debug\n",
    "- errors are reported long after graph construction\n",
    "- execution cannot be debugged with pdb or print statements\n",
    "\n",
    "### Un-Pythonic\n",
    "- writing a TensorFlow program is an exercise in metaprogramming\n",
    "- control flow (e.g., tf.while_loop) differs from Python\n",
    "- can't easily mix graph construction with custom data structures"
   ]
  },
  {
   "cell_type": "code",
   "execution_count": null,
   "metadata": {},
   "outputs": [],
   "source": []
  },
  {
   "cell_type": "markdown",
   "metadata": {},
   "source": [
    "## Eager Execution\n",
    "\n",
    "\"A NumPy-like library for numerical computation with support for GPU acceleration and automatic differentiation, and a flexible platform for machine learning research and experimentation.\" \n",
    "\n",
    " - the eager execution user guide(https://github.com/tensorflow/tensorflow/blob/master/tensorflow/contrib/eager/python/g3doc/guide.md)"
   ]
  },
  {
   "cell_type": "markdown",
   "metadata": {},
   "source": [
    "## EE Live Demo"
   ]
  },
  {
   "cell_type": "code",
   "execution_count": 2,
   "metadata": {},
   "outputs": [
    {
     "name": "stdout",
     "output_type": "stream",
     "text": [
      "/Users/surkpark/cs20si_study\n"
     ]
    }
   ],
   "source": [
    "import time\n",
    "import os\n",
    "os.environ['TF_CPP_MIN_LOG_LEVEL']='2'\n",
    "print(os.getcwd())\n"
   ]
  },
  {
   "cell_type": "code",
   "execution_count": 3,
   "metadata": {},
   "outputs": [],
   "source": [
    "import sys\n",
    "sys.path.append(os.getcwd()+\"/examples\")"
   ]
  },
  {
   "cell_type": "code",
   "execution_count": 4,
   "metadata": {},
   "outputs": [],
   "source": [
    "import utils\n",
    "\n",
    "DATA_FILE = \"./examples/data/birth_life_2010.txt\""
   ]
  },
  {
   "cell_type": "code",
   "execution_count": 5,
   "metadata": {},
   "outputs": [],
   "source": [
    "import tensorflow as tf\n",
    "import tensorflow.contrib.eager as tfe\n",
    "import matplotlib.pyplot as plt"
   ]
  },
  {
   "cell_type": "code",
   "execution_count": 6,
   "metadata": {},
   "outputs": [],
   "source": [
    "# In order to use eager execution, `tfe.enable_eager_execution()` must be\n",
    "# called at the very beginning of a TensorFlow program.\n",
    "tfe.enable_eager_execution()"
   ]
  },
  {
   "cell_type": "code",
   "execution_count": 7,
   "metadata": {},
   "outputs": [],
   "source": [
    "# Read the data into a dataset.\n",
    "data, n_samples = utils.read_birth_life_data(DATA_FILE)\n",
    "dataset = tf.data.Dataset.from_tensor_slices((data[:,0], data[:,1]))"
   ]
  },
  {
   "cell_type": "code",
   "execution_count": 8,
   "metadata": {},
   "outputs": [],
   "source": [
    "# Create weight and bias variables, initialized to 0.0.\n",
    "w = tfe.Variable(0.0)\n",
    "b = tfe.Variable(0.0)"
   ]
  },
  {
   "cell_type": "code",
   "execution_count": 9,
   "metadata": {},
   "outputs": [],
   "source": [
    "# Define the linear predictor.\n",
    "def prediction(x):\n",
    "  return x * w + b"
   ]
  },
  {
   "cell_type": "code",
   "execution_count": 10,
   "metadata": {},
   "outputs": [],
   "source": [
    "# Define loss functions of the form: L(y, y_predicted)\n",
    "def squared_loss(y, y_predicted):\n",
    "  return (y - y_predicted) ** 2"
   ]
  },
  {
   "cell_type": "code",
   "execution_count": 11,
   "metadata": {},
   "outputs": [],
   "source": [
    "def huber_loss(y, y_predicted, m=1.0):\n",
    "  \"\"\"Huber loss.\"\"\"\n",
    "  t = y - y_predicted\n",
    "  # Note that enabling eager execution lets you use Python control flow and\n",
    "  # specificy dynamic TensorFlow computations. Contrast this implementation\n",
    "  # to the graph-construction one found in `utils`, which uses `tf.cond`.\n",
    "  return t ** 2 if tf.abs(t) <= m else m * (2 * tf.abs(t) - m)"
   ]
  },
  {
   "cell_type": "code",
   "execution_count": 12,
   "metadata": {},
   "outputs": [],
   "source": [
    "def train(loss_fn):\n",
    "  \"\"\"Train a regression model evaluated using `loss_fn`.\"\"\"\n",
    "  print('Training; loss function: ' + loss_fn.__name__)\n",
    "  optimizer = tf.train.GradientDescentOptimizer(learning_rate=0.01)\n",
    "\n",
    "  # Define the function through which to differentiate.\n",
    "  def loss_for_example(x, y):\n",
    "    return loss_fn(y, prediction(x))\n",
    "\n",
    "  # `grad_fn(x_i, y_i)` returns (1) the value of `loss_for_example`\n",
    "  # evaluated at `x_i`, `y_i` and (2) the gradients of any variables used in\n",
    "  # calculating it.\n",
    "  grad_fn = tfe.implicit_value_and_gradients(loss_for_example)\n",
    "\n",
    "  start = time.time()\n",
    "  for epoch in range(100):\n",
    "    total_loss = 0.0\n",
    "    for x_i, y_i in tfe.Iterator(dataset):\n",
    "      loss, gradients = grad_fn(x_i, y_i)\n",
    "      # Take an optimization step and update variables.\n",
    "      optimizer.apply_gradients(gradients)\n",
    "      total_loss += loss\n",
    "    if epoch % 10 == 0:\n",
    "      print('Epoch {0}: {1}'.format(epoch, total_loss / n_samples))\n",
    "  print('Took: %f seconds' % (time.time() - start))\n",
    "  print('Eager execution exhibits significant overhead per operation. '\n",
    "        'As you increase your batch size, the impact of the overhead will '\n",
    "        'become less noticeable. Eager execution is under active development: '\n",
    "        'expect performance to increase substantially in the near future!')"
   ]
  },
  {
   "cell_type": "code",
   "execution_count": 13,
   "metadata": {},
   "outputs": [
    {
     "name": "stdout",
     "output_type": "stream",
     "text": [
      "Training; loss function: huber_loss\n",
      "Epoch 0: 106.16918182373047\n",
      "Epoch 10: 53.64773178100586\n",
      "Epoch 20: 42.586669921875\n",
      "Epoch 30: 31.845298767089844\n",
      "Epoch 40: 21.576385498046875\n",
      "Epoch 50: 12.379732131958008\n",
      "Epoch 60: 8.386137962341309\n",
      "Epoch 70: 7.563107013702393\n",
      "Epoch 80: 7.398852348327637\n",
      "Epoch 90: 7.382768630981445\n",
      "Took: 56.972176 seconds\n",
      "Eager execution exhibits significant overhead per operation. As you increase your batch size, the impact of the overhead will become less noticeable. Eager execution is under active development: expect performance to increase substantially in the near future!\n"
     ]
    }
   ],
   "source": [
    "train(huber_loss)"
   ]
  },
  {
   "cell_type": "code",
   "execution_count": 14,
   "metadata": {},
   "outputs": [
    {
     "data": {
      "image/png": "[encoded data removed]",
      "text/plain": [
       "<matplotlib.figure.Figure at 0x11d354470>"
      ]
     },
     "metadata": {},
     "output_type": "display_data"
    }
   ],
   "source": [
    "plt.plot(data[:,0], data[:,1], 'bo')\n",
    "# The `.numpy()` method of a tensor retrieves the NumPy array backing it.\n",
    "# In future versions of eager, you won't need to call `.numpy()` and will\n",
    "# instead be able to, in most cases, pass Tensors wherever NumPy arrays are\n",
    "# expected.\n",
    "plt.plot(data[:,0], data[:,0] * w.numpy() + b.numpy(), 'r',\n",
    "         label=\"huber regression\")\n",
    "plt.legend()\n",
    "plt.show()"
   ]
  },
  {
   "cell_type": "markdown",
   "metadata": {},
   "source": [
    "## EE Key Advantages\n",
    "\n",
    "- Compatible with Python debugging tools\n",
    "    * pdb.set_trace() to your heart's content!\n",
    "- Provides immediate error reporting\n",
    "- Permits use of Python data structures\n",
    "    * e.g., for structured input\n",
    "- Enables easy, Pythonic control flow\n",
    "    * if statements, for loops, recursion, oh my!  \n",
    "    \n",
    "    <pre><code>\n",
    "    i = tf.constant(0)\n",
    "    while i < 1000:\n",
    "        i = tf.add(i, 1)\n",
    "        print(\"I could this all day!!! %d\" % i)\n",
    "    </code></pre>"
   ]
  },
  {
   "cell_type": "markdown",
   "metadata": {},
   "source": [
    "## Eager execution simplifies your code\n",
    "\n",
    "## You no longer need to worry about ...\n",
    "\n",
    "1. placeholders\n",
    "2. sessions\n",
    "3. control dependencies\n",
    "4. \"lazy loading\"\n",
    "5. {name, variable, op} scopes\n"
   ]
  },
  {
   "cell_type": "markdown",
   "metadata": {},
   "source": [
    "## TF Boilerplate not using EE"
   ]
  },
  {
   "cell_type": "code",
   "execution_count": 15,
   "metadata": {},
   "outputs": [
    {
     "ename": "RuntimeError",
     "evalue": "tf.placeholder() is not compatible with eager execution.",
     "output_type": "error",
     "traceback": [
      "\u001b[0;31m---------------------------------------------------------------------------\u001b[0m",
      "\u001b[0;31mRuntimeError\u001b[0m                              Traceback (most recent call last)",
      "\u001b[0;32m<ipython-input-15-84c89c253443>\u001b[0m in \u001b[0;36m<module>\u001b[0;34m()\u001b[0m\n\u001b[0;32m----> 1\u001b[0;31m \u001b[0mx\u001b[0m \u001b[0;34m=\u001b[0m \u001b[0mtf\u001b[0m\u001b[0;34m.\u001b[0m\u001b[0mplaceholder\u001b[0m\u001b[0;34m(\u001b[0m\u001b[0mtf\u001b[0m\u001b[0;34m.\u001b[0m\u001b[0mfloat32\u001b[0m\u001b[0;34m,\u001b[0m \u001b[0mshape\u001b[0m\u001b[0;34m=\u001b[0m\u001b[0;34m[\u001b[0m\u001b[0;36m1\u001b[0m\u001b[0;34m,\u001b[0m \u001b[0;36m1\u001b[0m\u001b[0;34m]\u001b[0m\u001b[0;34m)\u001b[0m\u001b[0;34m\u001b[0m\u001b[0m\n\u001b[0m\u001b[1;32m      2\u001b[0m \u001b[0mm\u001b[0m \u001b[0;34m=\u001b[0m \u001b[0mtf\u001b[0m\u001b[0;34m.\u001b[0m\u001b[0mmatmul\u001b[0m\u001b[0;34m(\u001b[0m\u001b[0mx\u001b[0m\u001b[0;34m,\u001b[0m \u001b[0mx\u001b[0m\u001b[0;34m)\u001b[0m\u001b[0;34m\u001b[0m\u001b[0m\n\u001b[1;32m      3\u001b[0m \u001b[0;34m\u001b[0m\u001b[0m\n\u001b[1;32m      4\u001b[0m \u001b[0mprint\u001b[0m\u001b[0;34m(\u001b[0m\u001b[0mm\u001b[0m\u001b[0;34m)\u001b[0m\u001b[0;34m\u001b[0m\u001b[0m\n\u001b[1;32m      5\u001b[0m \u001b[0;31m# Tensor(\"MatMul:0\", shape=(1, 1), dtype=float32)\u001b[0m\u001b[0;34m\u001b[0m\u001b[0;34m\u001b[0m\u001b[0m\n",
      "\u001b[0;32m~/anaconda2/envs/py36/lib/python3.6/site-packages/tensorflow/python/ops/array_ops.py\u001b[0m in \u001b[0;36mplaceholder\u001b[0;34m(dtype, shape, name)\u001b[0m\n\u001b[1;32m   1675\u001b[0m   \"\"\"\n\u001b[1;32m   1676\u001b[0m   \u001b[0;32mif\u001b[0m \u001b[0mcontext\u001b[0m\u001b[0;34m.\u001b[0m\u001b[0min_eager_mode\u001b[0m\u001b[0;34m(\u001b[0m\u001b[0;34m)\u001b[0m\u001b[0;34m:\u001b[0m\u001b[0;34m\u001b[0m\u001b[0m\n\u001b[0;32m-> 1677\u001b[0;31m     raise RuntimeError(\"tf.placeholder() is not compatible with \"\n\u001b[0m\u001b[1;32m   1678\u001b[0m                        \"eager execution.\")\n\u001b[1;32m   1679\u001b[0m \u001b[0;34m\u001b[0m\u001b[0m\n",
      "\u001b[0;31mRuntimeError\u001b[0m: tf.placeholder() is not compatible with eager execution."
     ]
    }
   ],
   "source": [
    "x = tf.placeholder(tf.float32, shape=[1, 1])\n",
    "m = tf.matmul(x, x)\n",
    "\n",
    "print(m)\n",
    "# Tensor(\"MatMul:0\", shape=(1, 1), dtype=float32)\n",
    "\n",
    "with tf.Session() as sess:\n",
    "  m_out = sess.run(m, feed_dict={x: [[2.]]})\n",
    "print(m_out)\n",
    "# [[4.]]"
   ]
  },
  {
   "cell_type": "markdown",
   "metadata": {},
   "source": [
    "## TF Boilerplate using EE"
   ]
  },
  {
   "cell_type": "code",
   "execution_count": 16,
   "metadata": {},
   "outputs": [
    {
     "name": "stdout",
     "output_type": "stream",
     "text": [
      "tf.Tensor([[4.]], shape=(1, 1), dtype=float32)\n"
     ]
    }
   ],
   "source": [
    "x = [[2.]]  # No need for placeholders!\n",
    "m = tf.matmul(x, x)\n",
    "\n",
    "print(m)  # No sessions!\n",
    "# tf.Tensor([[4.]], shape=(1, 1), dtype=float32)\n"
   ]
  },
  {
   "cell_type": "markdown",
   "metadata": {},
   "source": [
    "## Lazy Roading"
   ]
  },
  {
   "cell_type": "code",
   "execution_count": null,
   "metadata": {},
   "outputs": [],
   "source": [
    "x = tf.random_uniform([2, 2])\n",
    "\n",
    "with tf.Session() as sess:\n",
    "  for i in range(x.shape[0]):\n",
    "    for j in range(x.shape[1]):\n",
    "      print(sess.run(x[i, j])) # Each iteration adds nodes to the graph\n"
   ]
  },
  {
   "cell_type": "markdown",
   "metadata": {},
   "source": [
    "## Lazy Roading does not happen with EE"
   ]
  },
  {
   "cell_type": "code",
   "execution_count": 17,
   "metadata": {},
   "outputs": [
    {
     "name": "stdout",
     "output_type": "stream",
     "text": [
      "tf.Tensor(0.09114444, shape=(), dtype=float32)\n",
      "tf.Tensor(0.14308941, shape=(), dtype=float32)\n",
      "tf.Tensor(0.08035076, shape=(), dtype=float32)\n",
      "tf.Tensor(0.070757866, shape=(), dtype=float32)\n"
     ]
    }
   ],
   "source": [
    "x = tf.random_uniform([2, 2])\n",
    "\n",
    "for i in range(x.shape[0]):\n",
    "  for j in range(x.shape[1]):\n",
    "    print(x[i, j])"
   ]
  },
  {
   "cell_type": "markdown",
   "metadata": {},
   "source": [
    "## Tensors Act Like NumPy Arrays"
   ]
  },
  {
   "cell_type": "code",
   "execution_count": 19,
   "metadata": {},
   "outputs": [
    {
     "name": "stdout",
     "output_type": "stream",
     "text": [
      "tf.Tensor(1.0, shape=(), dtype=float32)\n",
      "tf.Tensor(2.0, shape=(), dtype=float32)\n",
      "tf.Tensor(3.0, shape=(), dtype=float32)\n"
     ]
    }
   ],
   "source": [
    "import numpy as np\n",
    "\n",
    "x = tf.constant([1.0, 2.0, 3.0])\n",
    "\n",
    "\n",
    "# Tensors are backed by NumPy arrays\n",
    "assert type(x.numpy()) == np.ndarray ## Caveat: use tf.equal to compare Tensors, not ==\n",
    "squared = np.square(x) # Tensors are compatible with NumPy functions\n",
    " \n",
    "# Tensors are iterable!\n",
    "for i in x:\n",
    "  print(i)"
   ]
  },
  {
   "cell_type": "markdown",
   "metadata": {},
   "source": [
    "## Gradients\n",
    "\n",
    "### Automatic differentiation is built into eager execution\n",
    "\n",
    "### Under the hood ...\n",
    "\n",
    "- Operations are recorded on a tape\n",
    "- The tape is played back to compute gradients\n",
    "    * This is reverse-mode differentiation (backpropagation).\n"
   ]
  },
  {
   "cell_type": "code",
   "execution_count": 21,
   "metadata": {},
   "outputs": [
    {
     "name": "stdout",
     "output_type": "stream",
     "text": [
      "9.0\n"
     ]
    }
   ],
   "source": [
    "def square(x):\n",
    "  return x ** 2\n",
    "\n",
    "grad = tfe.gradients_function(square) # Differentiate w.r.t. input of square\n",
    "\n",
    "print(square(3.))    # tf.Tensor(9., shape=(), dtype=float32)\n"
   ]
  },
  {
   "cell_type": "code",
   "execution_count": 22,
   "metadata": {},
   "outputs": [
    {
     "name": "stdout",
     "output_type": "stream",
     "text": [
      "[<tf.Tensor: id=836335, shape=(), dtype=float32, numpy=6.0>]\n"
     ]
    }
   ],
   "source": [
    "print(grad(3.))      # [tf.Tensor(6., shape=(), dtype=float32))]"
   ]
  },
  {
   "cell_type": "code",
   "execution_count": 23,
   "metadata": {},
   "outputs": [
    {
     "name": "stdout",
     "output_type": "stream",
     "text": [
      "tf.Tensor(9.0, shape=(), dtype=float32)\n"
     ]
    }
   ],
   "source": [
    "x = tfe.Variable(2.0) # Use tfe.Variable when eager execution is enabled\n",
    "def loss(y):\n",
    "  return (y - x ** 2) ** 2\n",
    "\n",
    "grad = tfe.implicit_gradients(loss) # Differentiate w.r.t. variables used to compute loss\n",
    "\n",
    "print(loss(7.))  # tf.Tensor(9., shape=(), dtype=float32)"
   ]
  },
  {
   "cell_type": "code",
   "execution_count": 25,
   "metadata": {},
   "outputs": [
    {
     "name": "stdout",
     "output_type": "stream",
     "text": [
      "[(<tf.Tensor: id=836400, shape=(), dtype=float32, numpy=-24.0>, <tf.Variable 'Variable:0' shape=() dtype=float32, numpy=2.0>)]\n"
     ]
    }
   ],
   "source": [
    "print(grad(7.))  # [(<tf.Tensor: -24.0, shape=(), dtype=float32>, <tf.Variable 'Variable:0' shape=() dtype=float32, numpy=2.0>)]"
   ]
  },
  {
   "cell_type": "markdown",
   "metadata": {},
   "source": [
    "## Gradient APIs for computing gradients work even when eager execution is not enabled\n",
    "\n",
    "#### tfe.gradients_function()\n",
    "#### tfe.value_and_gradients_function()\n",
    "#### tfe.implicit_gradients()\n",
    "#### tfe.implicit_value_and_gradients()\n"
   ]
  },
  {
   "cell_type": "markdown",
   "metadata": {},
   "source": [
    "## A Collection of Operations\n",
    "\n",
    "### TensorFlow = Operation Kernels + Execution\n",
    "\n",
    "- Graph construction: Execute compositions of operations with Sessions\n",
    "- Eager execution: Execute compositions with Python \n",
    "\n",
    "### Majority of TF API works regardless of whether eager execution is enabled.\n",
    "\n",
    "- But, when eager execution is enabled  …\n",
    "    * prefer tfe.Variable under eager execution (compatible with graph construction)\n",
    "    * manage your own variable storage — variable collections are not supported!\n",
    "    * use tf.contrib.summary\n",
    "    * use tfe.Iterator to iterate over datasets under eager execution\n",
    "    * prefer object-oriented layers (e.g., tf.layers.Dense) \n",
    "    * functional layers (e.g., tf.layers.dense) only work if wrapped in tfe.make_template\n",
    "    * prefer tfe.py_func over tf.py_func\n",
    "\n",
    "- See the user guide for details and updates (https://github.com/tensorflow/tensorflow/blob/master/tensorflow/contrib/eager/python/g3doc/guide.md)"
   ]
  },
  {
   "cell_type": "markdown",
   "metadata": {},
   "source": [
    "## What if I like graphs?\n",
    "\n",
    "### Imperative to declarative and back\n",
    "\n",
    "- Write model definition code once\n",
    "    * The same code can execute operations in one Python process and construct graphs in another (see user guide/examples) ((https://github.com/tensorflow/tensorflow/blob/master/tensorflow/contrib/eager/python/g3doc/guide.md))\n",
    "\n",
    "- Checkpoints are compatible\n",
    "    * Train eagerly, checkpoint, load in a graph, or vice-versa\n",
    "\n",
    "- Create graphs while eager execution is enabled:\n",
    "    * tfe.defun: \"Compile\" computation into graphs and execute them."
   ]
  },
  {
   "cell_type": "markdown",
   "metadata": {},
   "source": [
    "## So when should I use eager execution?\n",
    "\n",
    "### Use eager if you're ...\n",
    "\n",
    "- a researcher and want a flexible framework\n",
    "    * python control flow and data structures enable experimentation\n",
    "- developing a new model\n",
    "    * immediate error reporting simplifies debugging\n",
    "- new to TensorFlow\n",
    "    * eager execution lets you explore the TF API in the Python REPL\n"
   ]
  },
  {
   "cell_type": "markdown",
   "metadata": {},
   "source": [
    "## EE Status\n",
    "\n",
    "- Available in version 1.5 of TensorFlow (import tf.contrib.eager as tfe)\n",
    "- Single GPU, ResNet benchmark performance comparable to graphs\n",
    "- Under active development\n",
    "    * Overheads on smaller operations are significant\n",
    "    * Distributed support is in the works\n",
    "    * Not all TF APIs are eager-compatible\n"
   ]
  },
  {
   "cell_type": "markdown",
   "metadata": {},
   "source": [
    "## Further reading\n",
    "\n",
    "### Read the user guide to learn about …\n",
    "\n",
    "- High-level, Keras-like APIs for constructing models\n",
    "    * tfe.Network, tf.layers.Layer\n",
    "- Checkpointing variables\n",
    "- Summaries and tensorboard\n",
    "- Custom gradients for numerical stability\n",
    "- Using GPUs\n",
    "\n",
    "### Check out the examples folder for idiomatic code\n",
    "(https://github.com/tensorflow/tensorflow/tree/master/tensorflow/contrib/eager/python/examples)"
   ]
  },
  {
   "cell_type": "code",
   "execution_count": null,
   "metadata": {},
   "outputs": [],
   "source": []
  }
 ],
 "metadata": {
  "kernelspec": {
   "display_name": "cs20si-python3.6-tf14",
   "language": "python",
   "name": "py36"
  },
  "language_info": {
   "codemirror_mode": {
    "name": "ipython",
    "version": 3
   },
   "file_extension": ".py",
   "mimetype": "text/x-python",
   "name": "python",
   "nbconvert_exporter": "python",
   "pygments_lexer": "ipython3",
   "version": "3.6.4"
  }
 },
 "nbformat": 4,
 "nbformat_minor": 2
}
