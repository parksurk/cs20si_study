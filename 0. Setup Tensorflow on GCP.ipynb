{
 "cells": [
  {
   "cell_type": "markdown",
   "metadata": {},
   "source": [
    "# Setup Tensorflow on GCP"
   ]
  },
  {
   "cell_type": "markdown",
   "metadata": {},
   "source": [
    "## 1. GCP VM Configuration Info"
   ]
  },
  {
   "cell_type": "markdown",
   "metadata": {},
   "source": [
    "### 1.1. Compute Engine - VM Instance Detail\n",
    "\n",
    "* Machine type\n",
    "\n",
    "    n1-standard-8 (8 vCPUs, 30 GB memory)\n",
    "\n",
    "\n",
    "* CPU platform\n",
    "\n",
    "    Intel Haswell\n",
    "\n",
    "\n",
    "* GPUs\n",
    "\n",
    "    4 x NVIDIA Tesla K80\n",
    "\n",
    "\n",
    "* Zone\n",
    "\n",
    "    us-central1-c\n",
    "\n",
    "\n",
    "* Deletion protection\n",
    "\n",
    "    Enable deletion protection\n",
    "    When deletion protection is enabled, instance cannot be deleted. Learn more\n",
    "\n",
    "\n",
    "* Boot disk and local disks\n",
    "\n",
    "    Name\tSize (GB)\tType\tEncryption\tMode\n",
    "        cs20si-study     50    Standard persistent disk     Google managed    Boot, read/write\n",
    " \n",
    "    Delete boot disk when instance is deleted\n",
    "\n",
    "\n",
    "* Preemptibility\t\n",
    "\n",
    "    On\n",
    "\n",
    "\n",
    "* Automatic restart\t\n",
    "\n",
    "    Off\n",
    "\n",
    "\n",
    "* On host maintenance\t\n",
    "\n",
    "    Terminate VM Instance"
   ]
  },
  {
   "cell_type": "markdown",
   "metadata": {},
   "source": [
    "### 1.2. Compute Engine - VM Instance Detail - Disk\n",
    "\n",
    "* Type\n",
    "\n",
    "    Standard persistent disk\n",
    "\n",
    "\n",
    "* Size\n",
    "\n",
    "    50 GB\n",
    "\n",
    "\n",
    "* Zone\n",
    "\n",
    "    us-central1-c\n",
    "\n",
    "\n",
    "* In use by\n",
    "\n",
    "    cs20si-study\n",
    "\n",
    "\n",
    "* Source image\n",
    "\n",
    "    ubuntu-1604-xenial-v20180912\n",
    "\n",
    "\n",
    "* Estimated performance\n",
    "\n",
    "    Operation type\tRead\tWrite\n",
    "    Sustained random IOPS limit\t37.50\t75.00\n",
    "    Sustained throughput limit (MB/s)\t6.00\t6.00\n",
    "\n",
    "\n",
    "* Encryption type\n",
    "\n",
    "    Google managed"
   ]
  },
  {
   "cell_type": "markdown",
   "metadata": {},
   "source": [
    "## 2. CS20SI Environment Requirement\n",
    "\n",
    " * *Python 3.6*\n",
    " * *TensorFlow 1.4*\n",
    " * Note from lecturer\n",
    "     - As of version 1.2, TensorFlow no longer provides GPU support on macOS.\n",
    "     - On macOS, Python 3.6 might gives warning but still works.\n",
    "     - *TensorFlow with GPU support will only work with CUDA® Toolkit 8.0 and cuDNN v6.0, not the newest CUDA and cnDNN version. Make sure that you install the correct CUDA and cuDNN versions to avoid frustrating issues.*\n",
    "     - On Windows, TensorFlow supports only 64-bit Python 3.5 anx Python 3.6."
   ]
  },
  {
   "cell_type": "markdown",
   "metadata": {},
   "source": [
    "## 3. Python & VirtualEnv Install on Ubuntu 16.04\n",
    "\n",
    "    1  sudo apt-get update\n",
    "    2  sudo apt-get -y install python3-pip\n",
    "    3  sudo apt-get install python-setuptools python-dev\n",
    "    4  sudo easy_install --upgrade six\n",
    "    5  pip3 install --upgrade pip\n",
    "    6  pip3 install virtualenv\n",
    "    7  sudo add-apt-repository ppa:jonathonf/python-3.6\n",
    "    8  sudo apt-get update\n",
    "    9  sudo apt-get install python3.6\n",
    "    10  python3.6\n",
    "    11  virtualenv -p /usr/bin/python3.6 .env\n",
    "    12  ls -lsa\n",
    "    13  source .env/bin/activate\n",
    "    14  python -v\n"
   ]
  },
  {
   "cell_type": "markdown",
   "metadata": {},
   "source": [
    "## 4. CUDA & CUDNN Install on Ubuntu 16.04\n",
    "\n",
    "    42  mkdir cs20\n",
    "    43  cd cs20\n",
    "    44  vi cuda80_cudnn60_on_ubuntu1604.sh\n",
    "    \n",
    "> ref to : https://github.com/parksurk/cs20si_study/setup/cuda80_cudnn60_on_ubuntu1604.sh\n",
    "    \n",
    "    47  chmod +x  cuda80_cudnn60_on_ubuntu1604.sh\n",
    "    48  ./cuda80_cudnn60_on_ubuntu1604.sh\n",
    "    63  sudo vi /etc/environment\n",
    "\n",
    ">    PATH=\"/usr/local/sbin:/usr/local/bin:/usr/sbin:/usr/bin:/sbin:/bin:/usr/games:/usr/local/games:/usr/local/cuda-8.0/bin\"\n",
    "\n",
    "    51  nvidia-smi\n",
    "    52  nvcc --version\n",
    "    53  cat /usr/local/cuda/include/cudnn.h | grep CUDNN_MAJOR -A 2\n",
    "\n"
   ]
  },
  {
   "cell_type": "markdown",
   "metadata": {},
   "source": [
    "## 5. Tensorflow GPU 1.4.1 install on Ubuntu 16.04\n",
    "\n",
    "    75  pip install -r requirements.txt\n",
    "\n",
    "> ref to : https://github.com/parksurk/cs20si_study/setup/requirements.txt\n",
    "\n",
    "    76  python -c \"import tensorflow as tf; print(tf.__version__)\""
   ]
  },
  {
   "cell_type": "markdown",
   "metadata": {},
   "source": [
    "## 6. Set environment variables related CUDA & CUDNN\n",
    "\n",
    "    87  cd ~\n",
    "    88  vi .bashrc\n",
    "\n",
    ">  https://github.com/parksurk/cs20si_study/setup/cuda80_cudnn60_on_ubuntu1604.sh 의 export PATH , export LD_LIBRARY_PATH 부분을 카피\n",
    "\n",
    "    89  resource .bashrc"
   ]
  },
  {
   "cell_type": "code",
   "execution_count": null,
   "metadata": {},
   "outputs": [],
   "source": []
  }
 ],
 "metadata": {
  "kernelspec": {
   "display_name": "cs20si-python3.6-tf14",
   "language": "python",
   "name": ".env"
  },
  "language_info": {
   "codemirror_mode": {
    "name": "ipython",
    "version": 3
   },
   "file_extension": ".py",
   "mimetype": "text/x-python",
   "name": "python",
   "nbconvert_exporter": "python",
   "pygments_lexer": "ipython3",
   "version": "3.6.5"
  }
 },
 "nbformat": 4,
 "nbformat_minor": 2
}
